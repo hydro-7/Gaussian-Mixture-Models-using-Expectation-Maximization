{
 "cells": [
  {
   "cell_type": "markdown",
   "id": "ffbb0d4c",
   "metadata": {},
   "source": [
    "# **Expectation Maximization for Gaussian Mixture Models**"
   ]
  },
  {
   "cell_type": "code",
   "execution_count": 19,
   "id": "b848e66f",
   "metadata": {},
   "outputs": [],
   "source": [
    "import numpy as np\n",
    "import pandas as pd\n",
    "from numpy import linalg as la\n",
    "import random, math\n",
    "from scipy.stats import norm, uniform, binom\n",
    "import seaborn as sns\n",
    "from scipy import stats\n",
    "import matplotlib.pyplot as plt\n",
    "\n",
    "random_seed = 42"
   ]
  },
  {
   "cell_type": "markdown",
   "id": "444139b6",
   "metadata": {},
   "source": [
    "### **Data Preperation**"
   ]
  },
  {
   "cell_type": "code",
   "execution_count": 20,
   "id": "8f068ef4",
   "metadata": {},
   "outputs": [],
   "source": [
    "mu1 = 2.0 \n",
    "mu2 = 9.0 \n",
    "sd1 = 2.0\n",
    "sd2 = 2.0\n",
    "\n",
    "y1 = np.random.normal(mu1, sd1, 1000)\n",
    "y2 = np.random.normal(mu2, sd2, 500)\n",
    "data=np.append(y1,y2)"
   ]
  },
  {
   "cell_type": "code",
   "execution_count": 31,
   "id": "eed7716c",
   "metadata": {},
   "outputs": [
    {
     "data": {
      "image/png": "[encoded data removed]",
      "text/plain": [
       "<Figure size 640x480 with 1 Axes>"
      ]
     },
     "metadata": {},
     "output_type": "display_data"
    }
   ],
   "source": [
    "sns.histplot(data, bins=50, kde=False);"
   ]
  },
  {
   "cell_type": "markdown",
   "id": "d6b0e7e6",
   "metadata": {},
   "source": [
    "###  **INITIALIZATION**"
   ]
  },
  {
   "cell_type": "markdown",
   "id": "569586dc",
   "metadata": {},
   "source": [
    "We have our datapoints. Now we assume that these datapoints have come up due to the mixing on 'n' gaussians. "
   ]
  },
  {
   "cell_type": "code",
   "execution_count": 22,
   "id": "285cd2b2",
   "metadata": {},
   "outputs": [],
   "source": [
    "number_of_gaussians = 2\n",
    "\n",
    "def gaussian_pdf(X, mu, sd):\n",
    "    Z = (X - mu) / sd\n",
    "    var = sd ** 2\n",
    "    return (1 / np.sqrt(2 * np.pi * var)) * np.exp(-Z ** 2 / 2)\n",
    "\n",
    "def mean(X):\n",
    "    return sum(X)/len(X)\n",
    "\n",
    "def standard_deviation(X):\n",
    "    m = mean(X)\n",
    "    return (sum([(x - m) ** 2 for x in X])/len(X)) ** (0.5)"
   ]
  },
  {
   "cell_type": "markdown",
   "id": "a0b2d68a",
   "metadata": {},
   "source": [
    "This distribution of datapoints is done according to the formula :\n",
    "$$\n",
    "p(x_i) = \\sum_{k=1}^{K} \\pi_k \\, \\mathcal{N}(x_i \\mid \\mu_k, \\Sigma_k)\n",
    "$$\n",
    "\\\n",
    "**$\\pi_k$** : mixing factor, which shows the weight of that gaussian within the weighted sum\n",
    "\n",
    "**$\\mu_k$** : mean of that gaussian\n",
    "\n",
    "**$\\Sigma_k$** : standard deviation of that gaussian\\\n",
    "\\\n",
    "For the implementation, we take a random value for the mu of each gaussian and stddev of each gaussian"
   ]
  },
  {
   "cell_type": "markdown",
   "id": "4abcb217",
   "metadata": {},
   "source": [
    "**NOTE:** Here, we **cant** use the initialization as I have done below. The reason for the same is that this leads to each of the components getting the same value of mu and stddev.\\\n",
    "This causes the algorithm to find the datapoints **un-classifiable**. So ideally atleast one of 'mus' or 'stddevs' must be randomly initialized.\\\n",
    "\\\n",
    "More mathematically :\n",
    "1) In the first E-step, every Gaussian will assign nearly **equal responsibility** to each data point.\n",
    "2) The M-step then recomputes the means — but they **update identically** again due to symmetry in the responsibilities.\n"
   ]
  },
  {
   "cell_type": "code",
   "execution_count": 23,
   "id": "cbfb0397",
   "metadata": {},
   "outputs": [],
   "source": [
    "mean_value = mean(data)\n",
    "stddev_value = standard_deviation(data)\n",
    "\n",
    "# mus = np.full(number_of_gaussians, mean_value)               # Cant use this due to lack of randomness\n",
    "# stddevs = np.full(number_of_gaussians, stddev_value)         # Cant use this due to lack of randomness\n",
    "\n",
    "mus = np.random.choice(data, number_of_gaussians)                         # Pick k random data - points from the given data to be initialized as the initial mu (Similar to K - Means)\n",
    "stddevs = np.full(number_of_gaussians, stddev_value)           # Initialized all values as the stdev of the data, here the mu will be responsible for generating randomness"
   ]
  },
  {
   "cell_type": "code",
   "execution_count": 24,
   "id": "ecd85ae1",
   "metadata": {},
   "outputs": [],
   "source": [
    "weights = np.full(number_of_gaussians, 1/number_of_gaussians)  # Now, we initialize the weights for the mixing. Initially each gaussian is given equal weight i.e, 1/n\n",
    "log_likelihoods = []"
   ]
  },
  {
   "cell_type": "markdown",
   "id": "a2cdf475",
   "metadata": {},
   "source": [
    "### **EM ALGORITHM**"
   ]
  },
  {
   "cell_type": "markdown",
   "id": "6505095a",
   "metadata": {},
   "source": [
    "Now, as a part of the EM algorithm we have 4 steps :\n",
    "1)  **E - Step** : Expectation\n",
    "2)  **M - Step** : Maximization \n",
    "3)  **Convergence Check** : Log - Likelihood"
   ]
  },
  {
   "cell_type": "markdown",
   "id": "b2376510",
   "metadata": {},
   "source": [
    "#### **E Step:**\n",
    "Responsibility $\\gamma_{ik}$ represents the probability that that data point $x_i$ belongs to the gaussian $k$. The formula for the same is given by :\n",
    "$$\n",
    "\\gamma_{ik} = \\frac{\\pi_k \\, \\mathcal{N}(x_i \\mid \\mu_k, \\Sigma_k)}{\\sum_{j=1}^{K} \\pi_j \\, \\mathcal{N}(x_i \\mid \\mu_j, \\Sigma_j)}\n",
    "$$\n",
    "1) In the responsibilities 2D array, a column vector would represent the chance of each datapoint belonging to that gaussian.\n",
    "2) The for loop fills data column wise. \n",
    "3) sum_resp is an array of values of columnwise sums"
   ]
  },
  {
   "cell_type": "markdown",
   "id": "e7ce2888",
   "metadata": {},
   "source": [
    "#### **M Step:**\n",
    "This is the maximization step in which the parameters are updated. \n",
    "\n",
    "**Effective number of points assigned to component** :\n",
    "$$\n",
    "N_k = \\sum_{i=1}^{n} \\gamma_{ik}\n",
    "$$\n",
    "\n",
    "**Update mixing coefficient for component** :\n",
    "$$\n",
    "\\pi_k = \\frac{N_k}{n}\n",
    "$$\n",
    "\n",
    "**Update mean of component** :\n",
    "$$\n",
    "\\mu_k = \\frac{1}{N_k} \\sum_{i=1}^{n} \\gamma_{ik} \\, x_i\n",
    "$$\n",
    "\n",
    "**Update covariance matrix of component** :\n",
    "$$\n",
    "\\Sigma_k = \\frac{1}{N_k} \\sum_{i=1}^{n} \\gamma_{ik} \\, (x_i - \\mu_k)(x_i - \\mu_k)^T\n",
    "$$"
   ]
  },
  {
   "cell_type": "markdown",
   "id": "35b86c5c",
   "metadata": {},
   "source": [
    "#### **Log Likelihood Calculation:**\n",
    "\n",
    "The likelihood of the parameters being the ones that are currently calculated is given by :\n",
    "$$\n",
    "L(\\pi_k, \\mu_k, \\Sigma_k) = \\prod_{i=1}^{n} \\left( \\sum_{k=1}^{K} \\pi_k \\, \\mathcal{N}(x_i \\mid \\mu_k, \\Sigma_k) \\right)\n",
    "$$\n",
    "\n",
    "This can be reduced down to :\n",
    "$$\n",
    "\\log L(\\pi_k, \\mu_k, \\Sigma_k) = \\sum_{i=1}^{n} \\log \\left( \\sum_{k=1}^{K} \\pi_k \\, \\mathcal{N}(x_i \\mid \\mu_k, \\Sigma_k) \\right)\n",
    "$$\n",
    "\n",
    "Which is easier to compute due to the $\\Sigma$ instead of the $\\Pi$\n"
   ]
  },
  {
   "cell_type": "code",
   "execution_count": null,
   "id": "fe6ef800",
   "metadata": {},
   "outputs": [],
   "source": [
    "def E_Step(X, means, devs, weights):\n",
    "\n",
    "    resp = np.zeros((len(X), number_of_gaussians))                              # n rows & k columns; (1500 x 2) \n",
    "    sum_resp = []\n",
    "\n",
    "    for i in range(number_of_gaussians):\n",
    "        resp[:, i] = weights[i] * gaussian_pdf(X, means[i], devs[i])            # pi_k * N(x | mu_k, S_k)\n",
    "\n",
    "    for i in range(len(X)):\n",
    "        sum_resp.append(sum(resp[i, :]))\n",
    "\n",
    "    sum_resp = np.array(sum_resp)\n",
    "    sum_resp = sum_resp.reshape(-1, 1)\n",
    "    resp /= sum_resp\n",
    "\n",
    "    return resp\n",
    "\n",
    "    \n",
    "def M_Step(X, R, means, devs, weights):\n",
    "\n",
    "    N = []\n",
    "    for i in range(number_of_gaussians):\n",
    "        N.append(sum(R[:, i]))                                                  # N = number of datapoints belonging to the gaussian\n",
    "        weights[i] = N[i]/len(X)                                                # Weight updation\n",
    "        means[i] = sum(R[:, i] * X) / N[i]                                      # Mean updation\n",
    "        devs[i] = ( sum(R[:, i] * (X - means[i]) ** 2) / N[i] ) ** (0.5)        # Stdev updation\n",
    "\n",
    "    return weights, means, devs\n",
    "\n",
    "\n",
    "def Log_Likelihood(X, means, devs, weights):\n",
    "\n",
    "    likelihood = np.zeros((len(X), number_of_gaussians))\n",
    "    for i in range(number_of_gaussians):\n",
    "        likelihood[:, i] = weights[i] * gaussian_pdf(X, means[i], devs[i])\n",
    "\n",
    "    return (sum(np.log(likelihood.sum(axis=1))))\n",
    "\n",
    "\n",
    "def EM(X, means, devs, weights, ll):\n",
    "    for i in range(1000):\n",
    "        Responsibilities = E_Step(X, means, devs, weights)                             # E - Step which calculates the responsibility\n",
    "\n",
    "        weights, means, devs = M_Step(X, Responsibilities, means, devs, weights)       # M - Step which optimizes the values of the parameters \n",
    "\n",
    "        l = Log_Likelihood(X, means, devs, weights)                                    # LL Computation\n",
    "        ll.append(l)\n",
    "\n",
    "        # Convergence Check :\n",
    "        if (len(ll) > 1) and ( abs(ll[-1] - ll[-2]) < 1e-4 ):                           # If the last two ll values were similar, break the loop as the values have started to converge\n",
    "            break\n",
    "    \n",
    "    return weights, means, devs"
   ]
  },
  {
   "cell_type": "code",
   "execution_count": 28,
   "id": "913e97d2",
   "metadata": {},
   "outputs": [
    {
     "name": "stdout",
     "output_type": "stream",
     "text": [
      "Estimated means: [1.86520515 9.05613605]\n",
      "Estimated std devs: [2.01308709 1.93491946]\n",
      "Estimated weights: [0.66570882 0.33429118]\n"
     ]
    }
   ],
   "source": [
    "weights, means, std_devs = EM(data, mus, stddevs, weights, log_likelihoods)\n",
    "print(f'Estimated means: {means}')\n",
    "print(f'Estimated std devs: {std_devs}')\n",
    "print(f'Estimated weights: {weights}')"
   ]
  },
  {
   "cell_type": "code",
   "execution_count": 32,
   "id": "4585cd7c",
   "metadata": {},
   "outputs": [
    {
     "data": {
      "image/png": "[encoded data removed]",
      "text/plain": [
       "<Figure size 640x480 with 1 Axes>"
      ]
     },
     "metadata": {},
     "output_type": "display_data"
    }
   ],
   "source": [
    "x_vals = np.linspace(min(data), max(data), 1000)\n",
    "pdf = np.zeros_like(x_vals)\n",
    "\n",
    "for i in range(number_of_gaussians):\n",
    "    component_pdf = weights[i] * gaussian_pdf(x_vals, means[i], std_devs[i])\n",
    "    pdf += component_pdf\n",
    "    plt.plot(x_vals, component_pdf, '--', label=f'Component {i+1}')\n",
    "\n",
    "sns.histplot(data, bins=50, stat='density', color='skyblue', label='Data')\n",
    "plt.plot(x_vals, pdf, 'r', label='GMM Fit')\n",
    "plt.title('GMM using EM')\n",
    "plt.legend()\n",
    "plt.show()\n"
   ]
  }
 ],
 "metadata": {
  "kernelspec": {
   "display_name": "base",
   "language": "python",
   "name": "python3"
  },
  "language_info": {
   "codemirror_mode": {
    "name": "ipython",
    "version": 3
   },
   "file_extension": ".py",
   "mimetype": "text/x-python",
   "name": "python",
   "nbconvert_exporter": "python",
   "pygments_lexer": "ipython3",
   "version": "3.12.7"
  }
 },
 "nbformat": 4,
 "nbformat_minor": 5
}
